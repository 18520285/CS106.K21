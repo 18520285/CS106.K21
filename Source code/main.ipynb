{
 "cells": [
  {
   "cell_type": "code",
   "execution_count": 1,
   "metadata": {},
   "outputs": [],
   "source": [
    "import pandas as pd\n",
    "import os\n",
    "from sklearn.naive_bayes import MultinomialNB\n",
    "from sklearn.feature_extraction.text import CountVectorizer\n",
    "from sklearn.model_selection import train_test_split\n",
    "from sklearn.metrics import f1_score\n",
    "from sklearn.metrics import precision_score\n",
    "from sklearn.metrics import recall_score\n",
    "from matplotlib import pyplot as plt\n",
    "import pickle\n",
    "from underthesea import pos_tag, chunk, word_tokenize"
   ]
  },
  {
   "cell_type": "code",
   "execution_count": 2,
   "metadata": {},
   "outputs": [],
   "source": [
    "def get_comment_data(file_name):\n",
    "    \"\"\"Get comments data, from local csv.\"\"\"\n",
    "    if (os.path.exists(file_name)):\n",
    "        print(\"--\"+file_name+\" found locally\")\n",
    "        df = pd.read_csv(file_name)\n",
    "    return df"
   ]
  },
  {
   "cell_type": "code",
   "execution_count": 3,
   "metadata": {},
   "outputs": [
    {
     "name": "stdout",
     "output_type": "stream",
     "text": [
      "--comment_data.csv found locally\n"
     ]
    }
   ],
   "source": [
    "#Đọc lấy dữ liệu\n",
    "raw_data = get_comment_data('comment_data.csv')"
   ]
  },
  {
   "cell_type": "code",
   "execution_count": 23,
   "metadata": {},
   "outputs": [
    {
     "name": "stdout",
     "output_type": "stream",
     "text": [
      "Data dimensions: (11796, 2)\n",
      "List features: ['comment' 'sentiment']\n",
      "First review:  Mới mua máy được 1 ngày, thấy mọi thứ vẫn ổn, pin sài đc lâu, camera chụp tốt. Màn hình nhạy, mọi thứ tốt. | 1\n"
     ]
    }
   ],
   "source": [
    "#Kiểm tra dữ liệu mới lấy được\n",
    "print(\"Data dimensions:\", raw_data.shape)\n",
    "print(\"List features:\",raw_data.columns.values)\n",
    "print(\"First review:\",raw_data[\"comment\"][0],\"|\",raw_data[\"sentiment\"][0])"
   ]
  },
  {
   "cell_type": "code",
   "execution_count": 24,
   "metadata": {},
   "outputs": [
    {
     "data": {
      "image/png": "[encoded data removed]",
      "text/plain": [
       "<Figure size 432x288 with 1 Axes>"
      ]
     },
     "metadata": {
      "needs_background": "light"
     },
     "output_type": "display_data"
    }
   ],
   "source": [
    "df = pd.DataFrame({'label':['Pos', 'Neg'], 'val':[raw_data[\"sentiment\"].sum(), len(raw_data)-raw_data[\"sentiment\"].sum()]})\n",
    "ax = df.plot.bar(x='label', y='val', rot=0)"
   ]
  },
  {
   "cell_type": "code",
   "execution_count": 46,
   "metadata": {},
   "outputs": [
    {
     "name": "stdout",
     "output_type": "stream",
     "text": [
      "--stopwords.txt found lacally\n",
      "Succession!\n"
     ]
    }
   ],
   "source": [
    "def get_stopwords(file_name):\n",
    "    if (os.path.exists(file_name)):\n",
    "        print(\"--\"+file_name+\" found lacally\")\n",
    "        f = open(file_name,encoding = \"utf-8\")\n",
    "        stopwords = f.read()\n",
    "        f.close()\n",
    "    return stopwords\n",
    "\n",
    "stopword = get_stopwords('stopwords.txt')\n",
    "print('Succession!')"
   ]
  },
  {
   "cell_type": "code",
   "execution_count": 90,
   "metadata": {},
   "outputs": [
    {
     "name": "stdout",
     "output_type": "stream",
     "text": [
      "--Succession!\n"
     ]
    }
   ],
   "source": [
    "def comment_to_words(comment):\n",
    "    \"\"\"\n",
    "    Function to convert a raw comment to a string of words\n",
    "    :param comment\n",
    "    :return: meaningful_words\n",
    "    \"\"\"\n",
    "    #1. Convert to lower case\n",
    "    sents = comment.lower() #Chuyển tất cả chữ về dạng chữ thường\n",
    "    #2. Convert into meaningful_words\n",
    "    words = []\n",
    "    license = ['A','R']\n",
    "    rew = [\"không\",\"chả\",\"chẳng\"]\n",
    "    s = word_tokenize(sents,format='text').split(\" \")\n",
    "    for i in range(len(s)):\n",
    "        if ('A' == pos_tag(s[i])[0][1] and s[i] not in words): #kiểm tra coi từ s[i] có phải là advj\n",
    "                if (s[i] not in stopword):\n",
    "                    words.append(s[i])\n",
    "        elif (i<len(s)-1 and 'R' == pos_tag(s[i])[0][1] and 'A' == pos_tag(s[i+1])[0][1] and (s[i]+'_'+s[i+1]) not in words): #Kiểm tra coi có phải dạng reserword + adjv (ví dụ như không tốt, trong đó không có POS_tag là R và tốt là A)\n",
    "                if (s[i]+' '+s[i+1]) not in stopword: \n",
    "                    words.append(s[i]+'_'+s[i+1])\n",
    "    return ' '.join(words)\n",
    "print(\"--Succession!\")"
   ]
  },
  {
   "cell_type": "code",
   "execution_count": 91,
   "metadata": {},
   "outputs": [
    {
     "name": "stdout",
     "output_type": "stream",
     "text": [
      "--Coverting comment\n",
      "Finish 1000st comment\n",
      "Finish 2000st comment\n",
      "Finish 3000st comment\n",
      "Finish 4000st comment\n",
      "Finish 5000st comment\n",
      "Finish 6000st comment\n",
      "Finish 7000st comment\n",
      "Finish 8000st comment\n",
      "Finish 9000st comment\n",
      "Finish 10000st comment\n",
      "Finish 11000st comment\n",
      "Succession!\n",
      "------------------------------\n"
     ]
    }
   ],
   "source": [
    "#Xử lý comment đầu vào\n",
    "print('--Coverting comment')\n",
    "d = {'comment': [],'sentiment': []}\n",
    "num_comment = raw_data[\"comment\"].size\n",
    "\n",
    "for i in range(num_comment):\n",
    "    s = comment_to_words(raw_data[\"comment\"][i])\n",
    "    if s!='':\n",
    "        d['comment'].append(s) #thêm câu nhận xét đã qua xử lý vào data\n",
    "        d['sentiment'].append(raw_data['sentiment'][i]) #thêm nhãn cho điểm data đó\n",
    "    if ((i+1)%1000==0):\n",
    "        print('Finish '+str(i+1)+'st comment')\n",
    "data = pd.DataFrame(data=d)\n",
    "print(\"Succession!\")\n",
    "print(\"-\"*30)"
   ]
  },
  {
   "cell_type": "code",
   "execution_count": 92,
   "metadata": {},
   "outputs": [
    {
     "data": {
      "text/html": [
       "<div>\n",
       "<style scoped>\n",
       "    .dataframe tbody tr th:only-of-type {\n",
       "        vertical-align: middle;\n",
       "    }\n",
       "\n",
       "    .dataframe tbody tr th {\n",
       "        vertical-align: top;\n",
       "    }\n",
       "\n",
       "    .dataframe thead th {\n",
       "        text-align: right;\n",
       "    }\n",
       "</style>\n",
       "<table border=\"1\" class=\"dataframe\">\n",
       "  <thead>\n",
       "    <tr style=\"text-align: right;\">\n",
       "      <th></th>\n",
       "      <th>comment</th>\n",
       "      <th>sentiment</th>\n",
       "    </tr>\n",
       "  </thead>\n",
       "  <tbody>\n",
       "    <tr>\n",
       "      <th>0</th>\n",
       "      <td>vẫn_ổn</td>\n",
       "      <td>1</td>\n",
       "    </tr>\n",
       "    <tr>\n",
       "      <th>1</th>\n",
       "      <td>khá_êm</td>\n",
       "      <td>0</td>\n",
       "    </tr>\n",
       "    <tr>\n",
       "      <th>2</th>\n",
       "      <td>khá_nhiều</td>\n",
       "      <td>1</td>\n",
       "    </tr>\n",
       "    <tr>\n",
       "      <th>3</th>\n",
       "      <td>được_hơn rất_tốt</td>\n",
       "      <td>1</td>\n",
       "    </tr>\n",
       "    <tr>\n",
       "      <th>4</th>\n",
       "      <td>được_hơn quá_ngon ngon</td>\n",
       "      <td>1</td>\n",
       "    </tr>\n",
       "  </tbody>\n",
       "</table>\n",
       "</div>"
      ],
      "text/plain": [
       "                  comment  sentiment\n",
       "0                  vẫn_ổn          1\n",
       "1                  khá_êm          0\n",
       "2               khá_nhiều          1\n",
       "3        được_hơn rất_tốt          1\n",
       "4  được_hơn quá_ngon ngon          1"
      ]
     },
     "execution_count": 92,
     "metadata": {},
     "output_type": "execute_result"
    }
   ],
   "source": [
    "data.head()"
   ]
  },
  {
   "cell_type": "code",
   "execution_count": 93,
   "metadata": {},
   "outputs": [
    {
     "name": "stdout",
     "output_type": "stream",
     "text": [
      "--Creating bag of word matrix from data\n",
      "Sucession!\n",
      "------------------------------\n",
      "['buồn', 'bí', 'bầm', 'bẩn', 'bỏng', 'chuyên', 'chưa_cao', 'chưa_hư', 'chưa_kịp', 'chưa_ngon', 'chưa_nhanh', 'chưa_nhiều', 'chưa_rõ', 'chưa_tốt', 'chưa_đuối', 'chưa_đúng', 'chưa_đầy', 'chưa_đẹp', 'chưa_đủ', 'chưa_ổn', 'chậm', 'chật', 'chẳng_khác', 'chẳng_tốt', 'chặt', 'chỉ_buồn', 'chỉ_dễ', 'chỉ_dọc', 'chỉ_giỏi', 'chỉ_gần', 'chỉ_hơn', 'chỉ_khoảng', 'chỉ_khác', 'chỉ_kém', 'chỉ_mạnh', 'chỉ_ngang', 'chỉ_nóng', 'chỉ_nặng', 'chỉ_riêng', 'chỉ_rẻ', 'chỉ_thiếu', 'chỉ_tạm', 'chỉ_yếu', 'chỉ_đúng', 'chỉ_đặc', 'chỉ_đủ', 'cong', 'càng_cao', 'càng_chậm', 'càng_dày', 'càng_kém', 'càng_lâu', 'càng_mờ', 'càng_ngon', 'càng_nhanh', 'càng_nhiều', 'càng_nóng', 'càng_nặng', 'càng_sớm', 'càng_to', 'càng_tốt', 'càng_xịn', 'càng_yếu', 'càng_ít', 'càng_đắt', 'còn_bầm', 'còn_cao', 'còn_chậm', 'còn_dư', 'còn_gần', 'còn_hơn', 'còn_khoảng', 'còn_khác', 'còn_kém', 'còn_kịp', 'còn_lâu', 'còn_lạ', 'còn_mạnh', 'còn_mờ', 'còn_ngon', 'còn_nhanh', 'còn_nhiều', 'còn_nhỏ', 'còn_nóng', 'còn_riêng', 'còn_rõ', 'còn_rẻ', 'còn_thiếu', 'còn_to', 'còn_trần', 'còn_tươi', 'còn_tạm', 'còn_tốt', 'còn_xấu', 'còn_yếu', 'còn_êm', 'còn_ít', 'còn_đen', 'còn_đúng', 'còn_đầy', 'còn_đẹp', 'còn_ổn', 'cũng_buồn', 'cũng_cao', 'cũng_chậm', 'cũng_cùng', 'cũng_cực', 'cũng_dễ', 'cũng_giống', 'cũng_gấp', 'cũng_gần', 'cũng_hơn', 'cũng_hư', 'cũng_khoảng', 'cũng_khó', 'cũng_kém', 'cũng_lâu', 'cũng_lạ', 'cũng_lạnh', 'cũng_lớn', 'cũng_may', 'cũng_mạnh', 'cũng_mệt', 'cũng_mờ', 'cũng_ngang', 'cũng_ngon', 'cũng_nhanh', 'cũng_nhiều', 'cũng_nhỏ', 'cũng_nóng', 'cũng_nặng', 'cũng_rõ', 'cũng_rẻ', 'cũng_sai', 'cũng_sướng', 'cũng_to', 'cũng_trắng', 'cũng_tạm', 'cũng_tốt', 'cũng_vui', 'cũng_xấu', 'cũng_yếu', 'cũng_êm', 'cũng_ít', 'cũng_đúng', 'cũng_đẹp', 'cũng_đục', 'cũng_đủ', 'cũng_ổn', 'cận', 'cụt', 'cứ_chậm', 'cứ_cứng', 'cứ_khoảng', 'cứ_mạnh', 'cứ_ngon', 'cứ_no', 'cứ_suốt', 'cứ_đen', 'cứ_đỏ', 'cứng', 'dày', 'dại', 'dịu', 'dọc', 'già', 'giàu', 'giỏi', 'gấp', 'hiếm', 'hoài_nhiều', 'hùng', 'hơi_buồn', 'hơi_cao', 'hơi_chậm', 'hơi_cong', 'hơi_cũ', 'hơi_cứng', 'hơi_dài', 'hơi_dày', 'hơi_dễ', 'hơi_dở', 'hơi_giống', 'hơi_gần', 'hơi_hiếm', 'hơi_khác', 'hơi_khó', 'hơi_kém', 'hơi_lác', 'hơi_lâu', 'hơi_lớn', 'hơi_mạnh', 'hơi_mờ', 'hơi_ngược', 'hơi_nhanh', 'hơi_nhiều', 'hơi_nhẹ', 'hơi_nhỏ', 'hơi_nóng', 'hơi_nặng', 'hơi_sâu', 'hơi_sớm', 'hơi_thô', 'hơi_thấp', 'hơi_to', 'hơi_tươi', 'hơi_vắng', 'hơi_xa', 'hơi_xấu', 'hơi_yếu', 'hơi_ít', 'hơi_đuối', 'hơi_đông', 'hơi_đắt', 'hơi_ướt', 'hơi_ổn', 'hẳn_gần', 'hẳn_hơn', 'khoái', 'khoẻ', 'khuya', 'khá_buồn', 'khá_cao', 'khá_chậm', 'khá_dài', 'khá_dày', 'khá_dễ', 'khá_giống', 'khá_gần', 'khá_gọn', 'khá_hiếm', 'khá_hơn', 'khá_khó', 'khá_kém', 'khá_kỹ', 'khá_lâu', 'khá_lạ', 'khá_lớn', 'khá_mát', 'khá_mạnh', 'khá_mềm', 'khá_mờ', 'khá_ngon', 'khá_nhanh', 'khá_nhiều', 'khá_nhẹ', 'khá_nhỏ', 'khá_nóng', 'khá_nặng', 'khá_rõ', 'khá_rẻ', 'khá_rộng', 'khá_sướng', 'khá_thô', 'khá_thấp', 'khá_to', 'khá_tạm', 'khá_xa', 'khá_xấu', 'khá_yếu', 'khá_êm', 'khá_ít', 'khá_đắt', 'khá_đẹp', 'khá_ổn', 'không_cao', 'không_chuyên', 'không_chậm', 'không_chắc', 'không_dày', 'không_dại', 'không_dễ', 'không_giống', 'không_hơn', 'không_hư', 'không_khác', 'không_kém', 'không_lác', 'không_lâu', 'không_lớn', 'không_may', 'không_mạnh', 'không_mờ', 'không_ngon', 'không_nhanh', 'không_nhiều', 'không_nhỏ', 'không_nóng', 'không_nặng', 'không_riêng', 'không_rõ', 'không_rẻ', 'không_sai', 'không_sướng', 'không_to', 'không_tươi', 'không_tốt', 'không_vui', 'không_xấu', 'không_yếu', 'không_êm', 'không_ít', 'không_đúng', 'không_đẹp', 'không_đủ', 'không_ổn', 'khắp', 'khổ', 'kém', 'kín', 'kịp', 'kỹ', 'luôn_buồn', 'luôn_chắc', 'luôn_hơn', 'luôn_mát', 'luôn_tốt', 'luôn_ổn', 'lác', 'lại_cao', 'lại_chậm', 'lại_chắc', 'lại_cùng', 'lại_cực', 'lại_dễ', 'lại_gần', 'lại_hơn', 'lại_hư', 'lại_hỏng', 'lại_khoảng', 'lại_khác', 'lại_khổ', 'lại_kém', 'lại_lâu', 'lại_lớn', 'lại_mạnh', 'lại_mềm', 'lại_mờ', 'lại_ngon', 'lại_nhanh', 'lại_nhiều', 'lại_nhỏ', 'lại_nóng', 'lại_rẻ', 'lại_suốt', 'lại_sạch', 'lại_thiếu', 'lại_tốt', 'lại_vội', 'lại_xấu', 'lại_yếu', 'lại_đắt', 'lại_ổn', 'lạnh', 'lậu', 'lắm_chậm', 'lắm_chắc', 'lắm_khoảng', 'lắm_ngon', 'lắm_nhanh', 'lắm_nhiều', 'lắm_nhỏ', 'lắm_đủ', 'may', 'muộn', 'mát', 'mềm', 'mệt', 'mới_gần', 'mới_hơn', 'mới_khoảng', 'mới_khác', 'mới_lâu', 'mới_mệt', 'mới_ngon', 'mới_nhanh', 'mới_nóng', 'mới_rõ', 'mới_to', 'mới_tốt', 'mới_đúng', 'mới_đầy', 'mới_đẹp', 'mới_đủ', 'mới_ổn', 'mờ', 'ngang', 'nghèo', 'ngon', 'ngoại', 'ngược', 'ngắn', 'nhẹ', 'no', 'nát', 'nóng', 'nổi_bầm', 'nữa_chậm', 'nữa_chắc', 'nữa_cùng', 'nữa_may', 'nữa_mệt', 'nữa_tốt', 'nữa_đúng', 'oan', 'quá_buồn', 'quá_cao', 'quá_chậm', 'quá_chắc', 'quá_cùng', 'quá_dài', 'quá_dày', 'quá_dư', 'quá_dễ', 'quá_dở', 'quá_già', 'quá_giỏi', 'quá_giống', 'quá_gần', 'quá_hỏng', 'quá_khoẻ', 'quá_khó', 'quá_kém', 'quá_lác', 'quá_lâu', 'quá_lớn', 'quá_mạnh', 'quá_mềm', 'quá_mờ', 'quá_ngon', 'quá_ngắn', 'quá_nhanh', 'quá_nhẹ', 'quá_nhỏ', 'quá_nóng', 'quá_nặng', 'quá_rõ', 'quá_rẻ', 'quá_suốt', 'quá_sướng', 'quá_thấp', 'quá_to', 'quá_tốt', 'quá_xa', 'quá_xấu', 'quá_xịn', 'quá_yếu', 'quá_êm', 'quá_ít', 'quá_đắt', 'quá_đẹp', 'quá_đủ', 'quá_ổn', 'ruột', 'rát', 'rảnh', 'rất_buồn', 'rất_cao', 'rất_chậm', 'rất_chắc', 'rất_cận', 'rất_dài', 'rất_dày', 'rất_dễ', 'rất_dở', 'rất_dữ', 'rất_giống', 'rất_gần', 'rất_hiếm', 'rất_khoái', 'rất_khoẻ', 'rất_khác', 'rất_khó', 'rất_khổ', 'rất_kém', 'rất_kỹ', 'rất_lác', 'rất_lì', 'rất_lớn', 'rất_mát', 'rất_mạnh', 'rất_mềm', 'rất_mờ', 'rất_ngon', 'rất_ngắn', 'rất_nhanh', 'rất_nhiều', 'rất_nhẹ', 'rất_nhỏ', 'rất_nóng', 'rất_nặng', 'rất_rõ', 'rất_rẻ', 'rất_rộng', 'rất_sát', 'rất_sướng', 'rất_sạch', 'rất_thấp', 'rất_thực', 'rất_to', 'rất_tươi', 'rất_tốt', 'rất_vui', 'rất_xa', 'rất_xanh', 'rất_xấu', 'rất_xịn', 'rất_yếu', 'rất_êm', 'rất_ít', 'rất_đúng', 'rất_đầy', 'rất_đắt', 'rất_đẹp', 'rất_ổn', 'rẻ', 'rộng', 'sai', 'sexy', 'suốt', 'sát', 'sâu', 'sướng', 'sạch', 'sắp_đầy', 'sẵn', 'sẽ_chậm', 'sẽ_dễ', 'sẽ_khác', 'sẽ_kém', 'sẽ_lâu', 'sẽ_lớn', 'sẽ_ngon', 'sẽ_nhanh', 'sẽ_nhiều', 'sẽ_nhẹ', 'sẽ_nóng', 'sẽ_nặng', 'sẽ_rõ', 'sẽ_rẻ', 'sẽ_sớm', 'sẽ_tươi', 'sẽ_tốt', 'sẽ_ít', 'sẽ_đầy', 'sẽ_đẹp', 'sẽ_ổn', 'thiện', 'thuôn', 'thơm', 'thường_hơn', 'thường_nhanh', 'thường_tốt', 'thầm', 'thẳng', 'toàn_hơn', 'toàn_trắng', 'toàn_đực', 'tròn', 'trần', 'trắng', 'trẻ', 'tân', 'tím', 'tươi', 'tạm', 'vui', 'vẫn_chậm', 'vẫn_dư', 'vẫn_hơn', 'vẫn_kém', 'vẫn_mạnh', 'vẫn_mờ', 'vẫn_ngon', 'vẫn_nhanh', 'vẫn_nhỏ', 'vẫn_nóng', 'vẫn_rát', 'vẫn_rõ', 'vẫn_sai', 'vẫn_sớm', 'vẫn_tạm', 'vẫn_tốt', 'vẫn_yếu', 'vẫn_êm', 'vẫn_đen', 'vẫn_đầy', 'vẫn_đẹp', 'vẫn_đủ', 'vẫn_ổn', 'vắng', 'vội', 'vụn', 'vừa_dày', 'vừa_khổ', 'vừa_mạnh', 'vừa_mờ', 'vừa_ngon', 'vừa_nhiều', 'vừa_nhỏ', 'vừa_nặng', 'vừa_rẻ', 'vừa_to', 'vừa_xấu', 'vừa_yếu', 'vừa_đúng', 'vừa_đẹp', 'vừa_đủ', 'xanh', 'xong_chắc', 'xong_nhẹ', 'xám', 'xấu', 'xịn', 'yên', 'yếu', 'đang_cùng', 'đang_gấp', 'đang_khác', 'đang_sai', 'đang_vội', 'đang_yên', 'đang_ít', 'đang_ướt', 'đen', 'đuối', 'đã_cong', 'đã_cũ', 'đã_cực', 'đã_gần', 'đã_hơn', 'đã_hư', 'đã_hỏng', 'đã_mờ', 'đã_ngon', 'đã_nhiều', 'đã_nóng', 'đã_nặng', 'đã_rẻ', 'đã_sai', 'đã_sướng', 'đã_sạch', 'đã_to', 'đã_xấu', 'đã_đúng', 'đã_đầy', 'đã_đắt', 'đã_đẹp', 'đã_ổn', 'đông', 'được_cao', 'được_chắc', 'được_gấp', 'được_gần', 'được_gọn', 'được_hơn', 'được_khoảng', 'được_lâu', 'được_lớn', 'được_ngon', 'được_nhanh', 'được_nhiều', 'được_no', 'được_rõ', 'được_tròn', 'được_tươi', 'được_tốt', 'được_vui', 'được_xa', 'được_xanh', 'được_êm', 'được_ít', 'được_đúng', 'được_đẹp', 'được_đủ', 'được_ổn', 'đậm', 'đắt', 'đẹp', 'đều_cực', 'đều_hơn', 'đều_khó', 'đều_kém', 'đều_ngon', 'đều_nhanh', 'đều_nhiều', 'đều_tạm', 'đều_tốt', 'đều_êm', 'đều_đẹp', 'đều_ổn', 'đỏ', 'độc', 'đục', 'đừng_cứng', 'đừng_mạnh', 'đừng_nhiều', 'đừng_trần', 'đừng_trẻ', 'đừng_vội', 'đực', 'ướt']\n"
     ]
    }
   ],
   "source": [
    "print(\"--Creating bag of word matrix from data\")\n",
    "vector = CountVectorizer(ngram_range = (1,1)) #tạo một vector từ \n",
    "X = vector.fit_transform(data['comment']).toarray()\n",
    "Y = [int(i) for i in data['sentiment']]\n",
    "print(\"Sucession!\")\n",
    "print('-'*30)\n",
    "print(vector.get_feature_names())"
   ]
  },
  {
   "cell_type": "code",
   "execution_count": 94,
   "metadata": {},
   "outputs": [
    {
     "name": "stdout",
     "output_type": "stream",
     "text": [
      "--Splicing data\n",
      "Succession!\n",
      "------------------------------\n"
     ]
    }
   ],
   "source": [
    "print(\"--Splicing data\")\n",
    "X_train, X_test, y_train, y_test = train_test_split(\n",
    "   X,Y, test_size = 0.2, random_state=0)\n",
    "print(\"Succession!\")\n",
    "print('-'*30) "
   ]
  },
  {
   "cell_type": "code",
   "execution_count": 95,
   "metadata": {},
   "outputs": [
    {
     "name": "stdout",
     "output_type": "stream",
     "text": [
      "Accuracy: 0.768\n",
      "Precision_score: 0.750\n",
      "Recall_score: 0.698\n",
      "F1_score: 0.711\n"
     ]
    }
   ],
   "source": [
    "#Training\n",
    "clf = MultinomialNB()\n",
    "clf.fit(X_train,y_train)\n",
    "score = clf.score(X_test,y_test)\n",
    "y_pred = clf.predict(X_test)\n",
    "\n",
    "print(\"Accuracy: %0.3f\" %score)\n",
    "print(\"Precision_score: %0.3f\" %precision_score(y_test,y_pred,average = 'macro'))\n",
    "print(\"Recall_score: %0.3f\" %recall_score(y_test,y_pred,average = 'macro'))\n",
    "print(\"F1_score: %0.3f\" %f1_score(y_test,y_pred,average = 'macro'))"
   ]
  },
  {
   "cell_type": "code",
   "execution_count": 122,
   "metadata": {},
   "outputs": [
    {
     "name": "stdout",
     "output_type": "stream",
     "text": [
      "Save model successed.\n"
     ]
    }
   ],
   "source": [
    "#Lưu mô hình tạo bow\n",
    "pickle.dump(vector,open(\"Countvector.pkl\",\"wb\"))\n",
    "print(\"Save model successed.\")"
   ]
  },
  {
   "cell_type": "code",
   "execution_count": 123,
   "metadata": {},
   "outputs": [
    {
     "name": "stdout",
     "output_type": "stream",
     "text": [
      "Save model successed.\n"
     ]
    }
   ],
   "source": [
    "#Lưu model\n",
    "with open(\"model.pkl\",\"wb\") as f:\n",
    "    pickle.dump(clf,f)\n",
    "print(\"Save model successed.\")"
   ]
  },
  {
   "cell_type": "code",
   "execution_count": 118,
   "metadata": {},
   "outputs": [
    {
     "name": "stdout",
     "output_type": "stream",
     "text": [
      "xấu\n"
     ]
    }
   ],
   "source": [
    "s = input()"
   ]
  },
  {
   "cell_type": "code",
   "execution_count": 119,
   "metadata": {},
   "outputs": [],
   "source": [
    "d = vector.transform([comment_to_words(s)]).toarray()"
   ]
  },
  {
   "cell_type": "code",
   "execution_count": 120,
   "metadata": {},
   "outputs": [
    {
     "name": "stdout",
     "output_type": "stream",
     "text": [
      "[0]\n"
     ]
    }
   ],
   "source": [
    "print(clf.predict(d))"
   ]
  },
  {
   "cell_type": "code",
   "execution_count": 121,
   "metadata": {},
   "outputs": [
    {
     "name": "stdout",
     "output_type": "stream",
     "text": [
      "[[0.52753356 0.47246644]]\n"
     ]
    }
   ],
   "source": [
    "print(clf.predict_proba(d))"
   ]
  }
 ],
 "metadata": {
  "kernelspec": {
   "display_name": "Python 3",
   "language": "python",
   "name": "python3"
  },
  "language_info": {
   "codemirror_mode": {
    "name": "ipython",
    "version": 3
   },
   "file_extension": ".py",
   "mimetype": "text/x-python",
   "name": "python",
   "nbconvert_exporter": "python",
   "pygments_lexer": "ipython3",
   "version": "3.7.6"
  }
 },
 "nbformat": 4,
 "nbformat_minor": 4
}
